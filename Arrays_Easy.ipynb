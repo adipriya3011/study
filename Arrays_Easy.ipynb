{
 "cells": [
  {
   "cell_type": "markdown",
   "metadata": {},
   "source": [
    "1. Largest Element in Array(Arrays)\n",
    "\n",
    "Given an array arr[]. The task is to find the largest element and return it.\n",
    "\n",
    "Examples:\n",
    "\n",
    "Input: arr[] = [1, 8, 7, 56, 90]\n",
    "Output: 90\n",
    "Explanation: The largest element of the given array is 90.\n",
    "Input: arr[] = [5, 5, 5, 5]\n",
    "Output: 5\n",
    "Explanation: The largest element of the given array is 5.\n",
    "Input: arr[] = [10]\n",
    "Output: 10\n",
    "Explanation: There is only one element which is the largest.\n",
    "Constraints:\n",
    "1 <= arr.size()<= 106\n",
    "0 <= arr[i] <= 106"
   ]
  },
  {
   "cell_type": "code",
   "execution_count": null,
   "metadata": {},
   "outputs": [
    {
     "name": "stdout",
     "output_type": "stream",
     "text": [
      "102\n"
     ]
    }
   ],
   "source": [
    "\n",
    "from typing import List\n",
    "\n",
    "#Brute Force\n",
    "def partition(arr,low,high):\n",
    "    pivot=arr[low]\n",
    "    i=low\n",
    "    j=high\n",
    "    while(i<j):\n",
    "        while(arr[i]<=pivot and i<=high-1):\n",
    "            i= i + 1\n",
    "        while(arr[j]>pivot and j>=low+1):\n",
    "            j= j - 1\n",
    "        if(i<j):\n",
    "            arr[i],arr[j] = arr[j],arr[i]\n",
    "    arr[low],arr[j] = arr[j],arr[low]\n",
    "    return j\n",
    "        \n",
    "        \n",
    "def qs(arr,low,high):\n",
    "    if(low<high):\n",
    "        parIndex = partition(arr,low,high)\n",
    "        qs(arr,low,parIndex-1)\n",
    "        qs(arr,parIndex+1,high)\n",
    "\n",
    "\n",
    "\n",
    "\n",
    "arr = [89,92,3,6,102,89]\n",
    "n = len(arr)\n",
    "qs(arr,0,n-1)\n",
    "print(arr[n-1])\n",
    "        \n",
    "        \n",
    "        # code here\n",
    "        \n",
    "\n",
    "\n"
   ]
  },
  {
   "cell_type": "markdown",
   "metadata": {},
   "source": [
    "The time complexity O(Nlog N)\n",
    "The Space complexity O(1)\n",
    "\n",
    "This is the Brute Force Aprroach where we are sorting using Quick Sort and then returning the last element."
   ]
  },
  {
   "cell_type": "code",
   "execution_count": 5,
   "metadata": {},
   "outputs": [
    {
     "name": "stdout",
     "output_type": "stream",
     "text": [
      "102\n"
     ]
    }
   ],
   "source": [
    "\n",
    "        # code here\n",
    "arr = [89,92,3,6,102,89]\n",
    "n=len(arr)\n",
    "maxElement = arr[0]\n",
    "for i in range(1,n):\n",
    "    if(arr[i] > maxElement):\n",
    "        maxElement=arr[i]\n",
    "print(maxElement)"
   ]
  },
  {
   "cell_type": "markdown",
   "metadata": {},
   "source": [
    "The time complexity O(N)\n",
    "The Space complexity O(1)\n",
    "\n",
    "This is the Optimized Approach where we are traversing through the array and comparing adjacent elements ans storing max element which is greater than our current max element."
   ]
  },
  {
   "cell_type": "markdown",
   "metadata": {},
   "source": []
  },
  {
   "cell_type": "markdown",
   "metadata": {},
   "source": [
    "2. Given an array of positive integers arr[], return the second largest element from the array. If the second largest element doesn't exist then return -1.\n",
    "\n",
    "Note: The second largest element should not be equal to the largest element.\n",
    "\n",
    "Case:- arr=[4,5,7,8,9]\n",
    "Output:- 8"
   ]
  },
  {
   "cell_type": "code",
   "execution_count": 2,
   "metadata": {},
   "outputs": [
    {
     "name": "stdout",
     "output_type": "stream",
     "text": [
      "8\n"
     ]
    }
   ],
   "source": [
    "#User function Template for python3\n",
    "arr=[4,5,7,8,9]\n",
    "n=len(arr)\n",
    "maxElement = arr[0]\n",
    "secondmax= -1\n",
    "for i in range(1,n):\n",
    "    if(arr[i]>maxElement):\n",
    "        secondmax=maxElement\n",
    "        maxElement=arr[i]\n",
    "    elif(arr[i]>secondmax and maxElement!=arr[i]):\n",
    "        secondmax=arr[i]\n",
    "print(secondmax)\n",
    "                \n",
    "                \n"
   ]
  },
  {
   "cell_type": "markdown",
   "metadata": {},
   "source": [
    "The time complexity O(N)\n",
    "The Space complexity O(1)\n",
    "\n",
    "This is the Optimised Approach with all cases met and duplicates also handled."
   ]
  },
  {
   "cell_type": "markdown",
   "metadata": {},
   "source": [
    "3. You have been given an array ‘a’ of ‘n’ non-negative integers.You have to check whether the given array is sorted in the non-decreasing order or not.\n",
    "\n",
    "\n",
    "\n",
    "Your task is to return 1 if the given array is sorted. Else, return 0.\n",
    "\n",
    "\n",
    "\n",
    "Example :\n",
    "Input: ‘n’ = 5, ‘a’ = [1, 2, 3, 4, 5]\n",
    "Output: 1\n",
    "\n",
    "The given array is sorted in non-decreasing order; hence the answer will be 1."
   ]
  },
  {
   "cell_type": "code",
   "execution_count": 8,
   "metadata": {},
   "outputs": [
    {
     "name": "stdout",
     "output_type": "stream",
     "text": [
      "false\n"
     ]
    }
   ],
   "source": [
    "a=[2,1,4,3,8]\n",
    "n=len(a)\n",
    "flag=0\n",
    "for i in range(0,n-1):\n",
    "    if(a[i]>a[i+1]):\n",
    "        print('false') \n",
    "        flag=1\n",
    "        break\n",
    "if(flag==0):\n",
    "    print('true') "
   ]
  },
  {
   "cell_type": "markdown",
   "metadata": {},
   "source": [
    "The time complexity O(N)\n",
    "The Space complexity O(1)\n",
    "\n",
    "This is the optimised approach where we are looking for elements using one loop and the moment we see issue we print and break from loop"
   ]
  },
  {
   "cell_type": "markdown",
   "metadata": {},
   "source": [
    "4. You are given a sorted integer array 'arr' of size 'n'.\n",
    "\n",
    "\n",
    "\n",
    "You need to remove the duplicates from the array such that each element appears only once.\n",
    "\n",
    "\n",
    "\n",
    "Return the length of this new array.\n",
    "\n",
    "\n",
    "\n",
    "Note:\n",
    "Do not allocate extra space for another array. You need to do this by modifying the given input array in place with O(1) extra memory. \n",
    "\n",
    "\n",
    "For example:\n",
    "'n' = 5, 'arr' = [1 2 2 2 3].\n",
    "The new array will be [1 2 3].\n",
    "So our answer is 3."
   ]
  },
  {
   "cell_type": "code",
   "execution_count": 11,
   "metadata": {},
   "outputs": [
    {
     "name": "stdout",
     "output_type": "stream",
     "text": [
      "3\n"
     ]
    }
   ],
   "source": [
    "arr=[1,2,2,2,3]\n",
    "n=len(arr)\n",
    "count=1\n",
    "for i in range(0,n-1):\n",
    "    if(arr[i]!=arr[i+1]):\n",
    "        count=count+1\n",
    "print(count)"
   ]
  },
  {
   "cell_type": "markdown",
   "metadata": {},
   "source": [
    "The time complexity O(N)\n",
    "The Space complexity O(1)\n",
    "\n",
    "This is an optimized solution where we can see that the code loops through the array once and is able to produce the distinct count"
   ]
  },
  {
   "cell_type": "markdown",
   "metadata": {},
   "source": [
    "5. Given an array, arr[] sorted in ascending order and an integer k. Return true if k is present in the array, otherwise, false.\n",
    "\n",
    "Examples:\n",
    "\n",
    "Input: arr[] = [1, 2, 3, 4, 6], k = 6\n",
    "Output: true\n",
    "Exlpanation: Since, 6 is present in the array at index 4 (0-based indexing), output is true.\n",
    "Input: arr[] = [1, 2, 4, 5, 6], k = 3\n",
    "Output: false\n",
    "Exlpanation: Since, 3 is not present in the array, output is false.\n",
    "Input: arr[] = [2, 3, 5, 6], k = 1\n",
    "Output: false\n",
    "Constraints:\n",
    "1 <= arr.size() <= 106\n",
    "1 <= k <= 106\n",
    "1 <= arr[i] <= 106"
   ]
  },
  {
   "cell_type": "code",
   "execution_count": 5,
   "metadata": {},
   "outputs": [
    {
     "name": "stdout",
     "output_type": "stream",
     "text": [
      "true\n"
     ]
    }
   ],
   "source": [
    "arr=[1, 2, 3, 4, 6]\n",
    "k=6\n",
    "n=len(arr)\n",
    "flag=0\n",
    "for i in range(0,n):\n",
    "    if(arr[i]==k):\n",
    "        print('true')\n",
    "        flag=1\n",
    "        break\n",
    "if(flag==0):       \n",
    "    print('false') "
   ]
  },
  {
   "cell_type": "markdown",
   "metadata": {},
   "source": [
    "The time complexity O(N)\n",
    "The Space complexity O(1)\n",
    "\n",
    "This is a brute force approach where we do Linear search where we check through each element of the array."
   ]
  },
  {
   "cell_type": "code",
   "execution_count": null,
   "metadata": {},
   "outputs": [
    {
     "name": "stdout",
     "output_type": "stream",
     "text": [
      "true\n"
     ]
    }
   ],
   "source": [
    "arr=[1, 2, 3, 4, 6]\n",
    "k=6\n",
    "n=len(arr)\n",
    "start = 0\n",
    "end = n-1\n",
    "flag=0\n",
    "        \n",
    "while (start <= end):\n",
    "    mid =(start+end)//2\n",
    "    if(arr[mid] == k):\n",
    "        print('true')\n",
    "        flag=1\n",
    "        break\n",
    "    elif(arr[mid] < k):\n",
    "        start=mid+1\n",
    "    else:\n",
    "        end=mid-1\n",
    "if(flag==0):       \n",
    "    print('false') "
   ]
  },
  {
   "cell_type": "markdown",
   "metadata": {},
   "source": [
    "The time complexity O(Log N)\n",
    "The Space complexity O(1)\n",
    "\n",
    "This is an optimized solution using binary search where we break the array into 2 different arrays so we are reducing the array by half everytime making it faster."
   ]
  },
  {
   "cell_type": "code",
   "execution_count": 7,
   "metadata": {},
   "outputs": [
    {
     "name": "stdout",
     "output_type": "stream",
     "text": [
      "{756, 101, 245, 276, 89, 75}\n"
     ]
    }
   ],
   "source": [
    "seta={101,245,89,756,276,75}\n",
    "print(seta)"
   ]
  },
  {
   "cell_type": "markdown",
   "metadata": {},
   "source": [
    "6. Given two sorted arrays, ‘a’ and ‘b’, of size ‘n’ and ‘m’, respectively, return the union of the arrays.\n",
    "\n",
    "\n",
    "\n",
    "The union of two sorted arrays can be defined as an array consisting of the common and the distinct elements of the two arrays. The final array should be sorted in ascending order.\n",
    "\n",
    "\n",
    "\n",
    "Note: 'a' and 'b' may contain duplicate elements, but the union array must contain unique elements.\n",
    "\n",
    "\n",
    "\n",
    "Example:\n",
    "Input: ‘n’ = 5 ‘m’ = 3\n",
    "‘a’ = [1, 2, 3, 4, 6]\n",
    "‘b’ = [2, 3, 5]\n",
    "\n",
    "Output: [1, 2, 3, 4, 5, 6]\n",
    "\n",
    "Explanation: Common elements in ‘a’ and ‘b’ are: [2, 3]\n",
    "Distinct elements in ‘a’ are: [1, 4, 6]\n",
    "Distinct elements in ‘b’ are: [5]\n",
    "Union of ‘a’ and ‘b’ is: [1, 2, 3, 4, 5, 6]"
   ]
  },
  {
   "cell_type": "code",
   "execution_count": 8,
   "metadata": {},
   "outputs": [
    {
     "name": "stdout",
     "output_type": "stream",
     "text": [
      "[1, 2, 3, 4, 5, 6]\n"
     ]
    }
   ],
   "source": [
    "a=[1,2,3,4,5]\n",
    "b=[2,3,6]\n",
    "m=len(a)\n",
    "n=len(b)\n",
    "num=set()\n",
    "for i in range(m):\n",
    "    num.add(a[i])\n",
    "for j in range(n):\n",
    "    num.add(b[j])\n",
    "arr=sorted(num)\n",
    "print(arr)"
   ]
  },
  {
   "cell_type": "markdown",
   "metadata": {},
   "source": [
    "The time complexity O(NLog N)\n",
    "The Space complexity O(N+M)\n",
    "\n",
    "This is a brute force approach where we are pushing elements into a set and then sorting it again which is contributing to the Nlog N time NLog N and space complexting is also on the higher side."
   ]
  },
  {
   "cell_type": "code",
   "execution_count": 9,
   "metadata": {},
   "outputs": [
    {
     "name": "stdout",
     "output_type": "stream",
     "text": [
      "[1, 2, 3, 4, 5, 6]\n"
     ]
    }
   ],
   "source": [
    "def appendcheck(distinctArr,a,i):\n",
    "    if(not distinctArr  or distinctArr[-1] != a[i]):\n",
    "                distinctArr.append(a[i])\n",
    "\n",
    "\n",
    "    # Write your code here\n",
    "a=[1,2,3,4,5]\n",
    "b=[2,3,6]\n",
    "i = 0\n",
    "j = 0\n",
    "n = len(a)\n",
    "m = len(b)\n",
    "distinctArr = []\n",
    "while(i < n and j < m):\n",
    "    if(a[i] <= b[j]):\n",
    "        appendcheck(distinctArr,a,i)\n",
    "        i +=1\n",
    "    else:\n",
    "        appendcheck(distinctArr,b,j)\n",
    "        j +=1\n",
    "while i < n:\n",
    "    appendcheck(distinctArr,a,i)\n",
    "    i +=1\n",
    "    \n",
    "while j < m:\n",
    "    appendcheck(distinctArr,b,j)\n",
    "    j +=1\n",
    "print(distinctArr)"
   ]
  },
  {
   "cell_type": "markdown",
   "metadata": {},
   "source": [
    "The time complexity O(M+N)\n",
    "The Space complexity O(N+M)\n",
    "\n",
    "This is a optimized approach where we are traversing through the array and we are inserting it into a new array while checking duplicates so faster than sorting approach."
   ]
  },
  {
   "cell_type": "markdown",
   "metadata": {},
   "source": [
    "7. Given a non-empty array of integers nums, every element appears twice except for one. Find that single one.\n",
    "\n",
    "You must implement a solution with a linear runtime complexity and use only constant extra space.\n",
    "\n",
    " \n",
    "\n",
    "Example 1:\n",
    "\n",
    "Input: nums = [2,2,1]\n",
    "\n",
    "Output: 1\n",
    "\n",
    "Example 2:\n",
    "\n",
    "Input: nums = [4,1,2,1,2]\n",
    "\n",
    "Output: 4\n",
    "\n",
    "Example 3:\n",
    "\n",
    "Input: nums = [1]\n",
    "\n",
    "Output: 1\n",
    "\n",
    " \n",
    "\n",
    "Constraints:\n",
    "\n",
    "1 <= nums.length <= 3 * 104\n",
    "-3 * 104 <= nums[i] <= 3 * 104\n",
    "Each element in the array appears twice except for one element which appears only once."
   ]
  },
  {
   "cell_type": "code",
   "execution_count": 12,
   "metadata": {},
   "outputs": [
    {
     "name": "stdout",
     "output_type": "stream",
     "text": [
      "1\n"
     ]
    }
   ],
   "source": [
    "nums=[2,2,1]\n",
    "n=len(nums)\n",
    "for i in range(0,n):\n",
    "    flag=0\n",
    "    for k in range(0,n):\n",
    "        if(nums[i]==nums[k]):\n",
    "            flag=flag+1\n",
    "    if(flag==1):\n",
    "        print(nums[i])\n",
    "        break\n",
    "        \n",
    "        "
   ]
  },
  {
   "cell_type": "markdown",
   "metadata": {},
   "source": [
    "The time complexity O(N^2)\n",
    "The Space complexity O(1)\n",
    "\n",
    "This is a brute force approach where we are running two loops cause we are picking on element and then doing linear search with another loop."
   ]
  },
  {
   "cell_type": "code",
   "execution_count": 13,
   "metadata": {},
   "outputs": [
    {
     "name": "stdout",
     "output_type": "stream",
     "text": [
      "1\n"
     ]
    }
   ],
   "source": [
    "nums=[2,2,1]\n",
    "n=len(nums)\n",
    "x=0\n",
    "for i in range(0,n):\n",
    "    x=x^nums[i]\n",
    "print(x)"
   ]
  },
  {
   "cell_type": "markdown",
   "metadata": {},
   "source": [
    "The time complexity O(N)\n",
    "The Space complexity O(1)\n",
    "\n",
    "This is a optimized appraoch where are using XOR properties where we are XORing all elements of the array to give out the unique number.\n",
    "\n",
    "XOR properties:-\n",
    "0^a=a\n",
    "a^a=0\n",
    "\n",
    "2^2^1=1\n"
   ]
  },
  {
   "cell_type": "markdown",
   "metadata": {},
   "source": []
  },
  {
   "cell_type": "markdown",
   "metadata": {},
   "source": []
  }
 ],
 "metadata": {
  "kernelspec": {
   "display_name": "Python 3",
   "language": "python",
   "name": "python3"
  },
  "language_info": {
   "codemirror_mode": {
    "name": "ipython",
    "version": 3
   },
   "file_extension": ".py",
   "mimetype": "text/x-python",
   "name": "python",
   "nbconvert_exporter": "python",
   "pygments_lexer": "ipython3",
   "version": "3.11.4"
  }
 },
 "nbformat": 4,
 "nbformat_minor": 2
}
